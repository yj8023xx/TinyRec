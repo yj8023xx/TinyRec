{
 "cells": [
  {
   "cell_type": "markdown",
   "metadata": {},
   "source": [
    "# 评估指标"
   ]
  },
  {
   "cell_type": "markdown",
   "metadata": {},
   "source": [
    "## 用户的满意度\n",
    "用户是推荐系统中非常重要的参与者，他们的满意度也直接决定了推荐系统的好坏。但是用户满意度这个指标无法离线计算，只能通过用户调查或者在线实验获得。这里在线实验一般是通过用户的线上行为统计得到的，比如电商场景中，用户如果购买了推荐的商品说明一定程度上他们是满意的，因此可以通过购买率度量用户的满意度，与购买率类似的点击率，用户停留时间和转化率等指标都可以用来度量用户的满意度"
   ]
  },
  {
   "cell_type": "markdown",
   "metadata": {},
   "source": [
    "## 预测准确度"
   ]
  },
  {
   "cell_type": "markdown",
   "metadata": {},
   "source": [
    "### 评分预测\n",
    "预测用户对物品的评分行为称为评分预测，评分预测模型通过对用户的历史物品评分记录进行建模，进而得到用户的兴趣模型，然后使用该模型预测用户未未见过商品的评分。评分预测的预测准确度一般通过均方根误差（RMSE）和平均绝对误差（MAE）计算。对于测试集中的一个用户 $u$ 和物品 $i$,令 $r_{ui}$ 是用户 $u$ 对物品 $i$ 的实际评分，而 $\\hat{r}_{ui}$ 是推荐模型预测出的评分\n",
    "\n",
    "**RMSE**\n",
    "\n",
    "$$\\mathrm{RMSE} = \\sqrt{\\frac{\\sum_{u,i \\in T}(r_{ui} - \\hat{r}_{ui})^2}{|T|}}$$\n",
    "\n",
    "**MAE**\n",
    "\n",
    "$$\\mathrm{MAE} = \\frac{\\sum_{u,i \\in T}|r_{ui} - \\hat{r}_{ui}|}{|T|}$$"
   ]
  },
  {
   "cell_type": "markdown",
   "metadata": {},
   "source": [
    "### TOPN 推荐\n",
    "推荐系统在给用户推荐物品的时候，往往会给用户一个列表的推荐物品，这种场景下的推荐成为是 TopN 推荐，该推荐方式最常用的预测准确率指标一般是精确率（Precision）和召回率（Recall），令 $R(u)$ 为通过推荐模型得到的推荐列表，$T(u)$ 为用户在实际场景中（测试集）的行为列表\n",
    "\n",
    "**精确率**\n",
    "\n",
    "$$\\mathrm{Precision} = \\frac{\\sum_{u \\in U}|R(u) \\cap T(u)|}{\\sum_{u \\in U}|R(u)|}$$\n",
    "\n",
    "**召回率**\n",
    "\n",
    "$$\\mathrm{Recall} = \\frac{\\sum_{u \\in U}|R(u) \\cap T(u)|}{\\sum_{u \\in U}|T(u)|}$$"
   ]
  },
  {
   "cell_type": "markdown",
   "metadata": {},
   "source": [
    "## 覆盖率\n",
    "覆盖率是用来描述一个推荐系统对物品长尾的发掘能力，一个简单的定义可以是：推荐系统所有推荐出来的商品集合数占总物品集合数的比例\n",
    "\n",
    "$$\\mathrm{Coverage} = \\frac{|\\cup_{u \\in U} R(u)|}{|I|}$$\n",
    "\n",
    "其中 $U$ 为所有用户集合，$I$ 为所有物品集合，$R(u)$ 为用户 $u$ 的推荐列表\n",
    "\n",
    "但是对于相同的覆盖率，不同物品的数量分布，或者说是物品的流行度分布是可以不一样的。为了更好的描述推荐系统挖掘长尾的能力，需要统计不同物品出现次数的分布。如果所有的物品都出现在推荐列表中，并且出现的次数都差不多，那么推荐系统发掘长尾的能力就很好。所以可以通过研究物品在推荐列表中出现的次数分布来描述推荐系统挖掘长尾的能力，如果这个分布比较平缓说明推荐系统的覆盖率比较高，而如果分布比较陡说明推荐系统的覆盖率比较低\n",
    "\n",
    "**信息熵** \n",
    "\n",
    "$$H = -\\sum_{i=1}^n p(i) \\log p(i)$$\n",
    "\n",
    "其中 $p(i)$ 是物品 $i$ 的流行度除以所有物品流行度之和\n",
    "\n",
    "**基尼系数**\n",
    "\n",
    "$$G = \\frac{1}{n-1} \\sum_{j=1}^n (2j-n-1)p(i_j)$$\n",
    "\n",
    "其中 $i_j$ 是按照物品流行度 p 从小到大排序的物品列表中第 $j$ 个物品"
   ]
  },
  {
   "cell_type": "markdown",
   "metadata": {},
   "source": [
    "## 多样性\n",
    "人的兴趣爱好通常是比较广泛的，所以一个好的推荐系统得到的推荐列表中应该尽可能多的包含用户的兴趣，只有这样才能增加用户找到感兴趣物品的概率。度量推荐列表中物品的多样性就是度量推荐列表中所有物品之间的不相似性。可以通过不同的相似性函数来度量推荐列表中商品的相似性，比如商品基于内容的相似，基于协同过滤的相似，这样就可以得到不同角度的多样性\n",
    "\n",
    "$$\\mathrm{Diversity}(R(u))=1-\\frac{\\sum_{i,j \\in R(u)}s(i,j)}{\\frac{1}{2}|R(u)|(|R(u)|-1)}$$\n",
    "\n",
    "其中 $s(i,j)$ 为物品 $i$ 和物品 $j$ 的相似性，$R(u)$ 为用户 $u$ 的推荐列表\n",
    "\n",
    "推荐系统整体的多样性可以定义为所有用户推荐列表多样性的平均值\n",
    "\n",
    "$$\\mathrm{Diversity} = \\frac{1}{|U|} \\sum_{u\\in U} \\mathrm{Diversity}(R(u))$$"
   ]
  },
  {
   "cell_type": "markdown",
   "metadata": {},
   "source": [
    "## 新颖性\n",
    "满足推荐的新颖性最简单的方法就是给用户推荐他们之前没有看过的物品，但是每个用户没见过的物品数量是非常庞大的，所以一般会计算推荐物品的平均流行度，流行度越低的物品越有可能让用户觉得新颖，因此，如果推荐结果中的物品平均热门程度比较低说明推荐的结果就可能比较新颖"
   ]
  },
  {
   "cell_type": "markdown",
   "metadata": {},
   "source": [
    "## 惊喜度\n",
    "如果推荐结果和用户的历史兴趣不相似，但却让用户觉 得满意，那么就可以说推荐结果的惊喜度很高"
   ]
  },
  {
   "cell_type": "code",
   "execution_count": null,
   "metadata": {},
   "outputs": [],
   "source": []
  }
 ],
 "metadata": {
  "kernelspec": {
   "display_name": "Python 3 (ipykernel)",
   "language": "python",
   "name": "python3"
  },
  "language_info": {
   "codemirror_mode": {
    "name": "ipython",
    "version": 3
   },
   "file_extension": ".py",
   "mimetype": "text/x-python",
   "name": "python",
   "nbconvert_exporter": "python",
   "pygments_lexer": "ipython3",
   "version": "3.9.13"
  }
 },
 "nbformat": 4,
 "nbformat_minor": 4
}
