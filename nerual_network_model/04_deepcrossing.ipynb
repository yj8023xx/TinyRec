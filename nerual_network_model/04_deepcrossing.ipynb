{
 "cells": [
  {
   "attachments": {},
   "cell_type": "markdown",
   "metadata": {},
   "source": [
    "# Deep Crossing\n",
    "\n",
    "<img src=\"../img/deepcrossing.png\" width=\"500\">\n",
    "\n",
    "- **Embedding 层**。将稀疏的类别型特征（one-hot）转换成稠密的 Embedding 向量\n",
    "- **Stack 层**。把不同的 Embedding 特征和数值型特征拼接在 起，形成新的包含全部特征的特征向量\n",
    "- **Multiple Residual Units 层**。通过多层残差网络对特征向量各个维度进行充分的交叉组合，使模型能够抓取到更多的非线性特征和组合特征的信息，进而使深度学习模型在表达能力上较传统机器习模型大为增强\n",
    "- **Scoring 层**。用于拟合优化目标，对于 CTR 预估问题，Scoring 层往往使用逻辑回归模型"
   ]
  },
  {
   "cell_type": "code",
   "execution_count": 1,
   "metadata": {},
   "outputs": [],
   "source": [
    "import pandas as pd\n",
    "import numpy as np\n",
    "import json\n",
    "import torch\n",
    "from torch import nn\n",
    "from torch.utils.data.dataset import Dataset\n",
    "from collections import OrderedDict"
   ]
  },
  {
   "cell_type": "code",
   "execution_count": 2,
   "metadata": {},
   "outputs": [
    {
     "data": {
      "text/plain": [
       "device(type='cuda')"
      ]
     },
     "execution_count": 2,
     "metadata": {},
     "output_type": "execute_result"
    }
   ],
   "source": [
    "learning_rate = 0.00001\n",
    "batch_size = 64\n",
    "num_epochs = 5\n",
    "device = torch.device('cuda' if torch.cuda.is_available() else 'cpu')\n",
    "device"
   ]
  },
  {
   "cell_type": "code",
   "execution_count": 3,
   "metadata": {},
   "outputs": [
    {
     "data": {
      "text/plain": [
       "{'dataset_id': 'movielens',\n",
       " 'num_fields': 25,\n",
       " 'feature_specs': {'movieId': {'source': 'item',\n",
       "   'type': 'categorical',\n",
       "   'vocab_size': 935,\n",
       "   'index': 0},\n",
       "  'userId': {'source': 'user',\n",
       "   'type': 'categorical',\n",
       "   'vocab_size': 22540,\n",
       "   'index': 1},\n",
       "  'timestamp': {'source': 'user',\n",
       "   'type': 'numerical',\n",
       "   'vocab_size': 1,\n",
       "   'index': 3},\n",
       "  'releaseYear': {'source': 'item',\n",
       "   'type': 'numerical',\n",
       "   'vocab_size': 1,\n",
       "   'index': 4},\n",
       "  'movieGenre1': {'source': 'item',\n",
       "   'type': 'categorical',\n",
       "   'vocab_size': 18,\n",
       "   'index': 5},\n",
       "  'movieGenre2': {'source': 'item',\n",
       "   'type': 'categorical',\n",
       "   'vocab_size': 18,\n",
       "   'index': 6},\n",
       "  'movieGenre3': {'source': 'item',\n",
       "   'type': 'categorical',\n",
       "   'vocab_size': 15,\n",
       "   'index': 7},\n",
       "  'movieRatingCount': {'source': 'item',\n",
       "   'type': 'numerical',\n",
       "   'vocab_size': 1,\n",
       "   'index': 8},\n",
       "  'movieAvgRating': {'source': 'item',\n",
       "   'type': 'numerical',\n",
       "   'vocab_size': 1,\n",
       "   'index': 9},\n",
       "  'movieRatingStddev': {'source': 'item',\n",
       "   'type': 'numerical',\n",
       "   'vocab_size': 1,\n",
       "   'index': 10},\n",
       "  'userRatedMovie1': {'source': 'user',\n",
       "   'type': 'categorical',\n",
       "   'vocab_size': 882,\n",
       "   'index': 11},\n",
       "  'userRatedMovie2': {'source': 'user',\n",
       "   'type': 'categorical',\n",
       "   'vocab_size': 874,\n",
       "   'index': 12},\n",
       "  'userRatedMovie3': {'source': 'user',\n",
       "   'type': 'categorical',\n",
       "   'vocab_size': 877,\n",
       "   'index': 13},\n",
       "  'userRatedMovie4': {'source': 'user',\n",
       "   'type': 'categorical',\n",
       "   'vocab_size': 871,\n",
       "   'index': 14},\n",
       "  'userRatedMovie5': {'source': 'user',\n",
       "   'type': 'categorical',\n",
       "   'vocab_size': 864,\n",
       "   'index': 15},\n",
       "  'userRatingCount': {'source': 'user',\n",
       "   'type': 'numerical',\n",
       "   'vocab_size': 1,\n",
       "   'index': 16},\n",
       "  'userAvgReleaseYear': {'source': 'user',\n",
       "   'type': 'numerical',\n",
       "   'vocab_size': 1,\n",
       "   'index': 17},\n",
       "  'userReleaseYearStddev': {'source': 'user',\n",
       "   'type': 'numerical',\n",
       "   'vocab_size': 1,\n",
       "   'index': 18},\n",
       "  'userAvgRating': {'source': 'user',\n",
       "   'type': 'numerical',\n",
       "   'vocab_size': 1,\n",
       "   'index': 19},\n",
       "  'userRatingStddev': {'source': 'user',\n",
       "   'type': 'numerical',\n",
       "   'vocab_size': 1,\n",
       "   'index': 20},\n",
       "  'userGenre1': {'source': 'user',\n",
       "   'type': 'categorical',\n",
       "   'vocab_size': 19,\n",
       "   'index': 21},\n",
       "  'userGenre2': {'source': 'user',\n",
       "   'type': 'categorical',\n",
       "   'vocab_size': 19,\n",
       "   'index': 22},\n",
       "  'userGenre3': {'source': 'user',\n",
       "   'type': 'categorical',\n",
       "   'vocab_size': 19,\n",
       "   'index': 23},\n",
       "  'userGenre4': {'source': 'user',\n",
       "   'type': 'categorical',\n",
       "   'vocab_size': 19,\n",
       "   'index': 24},\n",
       "  'userGenre5': {'source': 'user',\n",
       "   'type': 'categorical',\n",
       "   'vocab_size': 19,\n",
       "   'index': 25}}}"
      ]
     },
     "execution_count": 3,
     "metadata": {},
     "output_type": "execute_result"
    }
   ],
   "source": [
    "with open('../data/movielens/feature_map.json') as obj:\n",
    "    feature_map = json.load(obj)\n",
    "feature_map"
   ]
  },
  {
   "cell_type": "code",
   "execution_count": 4,
   "metadata": {},
   "outputs": [],
   "source": [
    "class MovielensDataset(Dataset):\n",
    "    def __init__(self, url):\n",
    "        self.df = pd.read_csv(url)\n",
    "    \n",
    "    def __getitem__(self, idx):\n",
    "        x, y = self.df.iloc[idx, :-1].values.astype(np.float32), self.df.iloc[idx, -1].astype(np.float32)\n",
    "        return x, y\n",
    "    \n",
    "    def __len__(self):\n",
    "        return self.df.shape[0]"
   ]
  },
  {
   "cell_type": "code",
   "execution_count": 5,
   "metadata": {},
   "outputs": [],
   "source": [
    "train_dataset = MovielensDataset('../data/movielens/data_for_train.csv')\n",
    "test_dataset = MovielensDataset('../data/movielens/data_for_test.csv')"
   ]
  },
  {
   "cell_type": "code",
   "execution_count": 6,
   "metadata": {},
   "outputs": [],
   "source": [
    "# Data loader\n",
    "train_loader = torch.utils.data.DataLoader(dataset=train_dataset,\n",
    "                                           batch_size=batch_size,\n",
    "                                           shuffle=True)\n",
    "\n",
    "test_loader = torch.utils.data.DataLoader(dataset=test_dataset,\n",
    "                                          batch_size=batch_size,\n",
    "                                          shuffle=False)"
   ]
  },
  {
   "cell_type": "code",
   "execution_count": 7,
   "metadata": {},
   "outputs": [],
   "source": [
    "class DeepCrossing(nn.Module):\n",
    "    def __init__(self,\n",
    "                 feature_map,\n",
    "                 embedding_dim=10,\n",
    "                 hidden_units=[256, 128, 64]):\n",
    "        super(DeepCrossing, self).__init__()\n",
    "        self.feature_map = feature_map\n",
    "        self.embedding = nn.ModuleDict()\n",
    "        for feature, feature_spec in feature_map['feature_specs'].items():\n",
    "            if feature_spec['type'] == 'numerical':\n",
    "                self.embedding[feature] = nn.Linear(1, embedding_dim, bias=False)\n",
    "            elif feature_spec['type'] == 'categorical':\n",
    "                padding_idx = feature_spec.get('padding_idx', None)\n",
    "                self.embedding[feature] = nn.Embedding(feature_spec['vocab_size'],\n",
    "                                                       embedding_dim,\n",
    "                                                       padding_idx=padding_idx)\n",
    "        input_dim = feature_map['num_fields'] * embedding_dim\n",
    "        hidden_units = [input_dim] + hidden_units\n",
    "        residual_layers = []\n",
    "        for hidden_dim in hidden_units:\n",
    "            residual_layers.append(ResidualBlock(input_dim,\n",
    "                                                 hidden_dim))\n",
    "        residual_layers.append(nn.Linear(input_dim, 1))\n",
    "        self.residual_layer = nn.Sequential(*residual_layers)\n",
    "        self.scoring = nn.Sigmoid()\n",
    "\n",
    "    def forward(self, X):\n",
    "        feature_emb_list = []\n",
    "        for feature, feature_spec in self.feature_map['feature_specs'].items():\n",
    "            if feature_spec['type'] == 'numerical':\n",
    "                raw_feature = X[:, feature_spec['index']].float().view(-1, 1)\n",
    "            elif feature_spec['type'] == 'categorical':\n",
    "                raw_feature = X[:, feature_spec['index']].long()\n",
    "            embedding_vec = self.embedding[feature](raw_feature)\n",
    "            feature_emb_list.append(embedding_vec)\n",
    "        feature_emb = torch.stack(feature_emb_list, dim=1)\n",
    "        feature_residual = self.residual_layer(feature_emb.flatten(start_dim=1))\n",
    "        y_pred = self.scoring(feature_residual).squeeze(1)\n",
    "        return y_pred\n",
    "\n",
    "\n",
    "class ResidualBlock(nn.Module):\n",
    "    def __init__(self,\n",
    "                 input_dim,\n",
    "                 hidden_dim):\n",
    "        super(ResidualBlock, self).__init__()\n",
    "        self.fc1 = nn.Linear(input_dim, hidden_dim)\n",
    "        self.fc2 = nn.Linear(hidden_dim, input_dim)\n",
    "        self.relu = nn.ReLU()\n",
    "\n",
    "    def forward(self, X):\n",
    "        residual = X\n",
    "        out = self.fc1(X)\n",
    "        out = self.relu(out)\n",
    "        out = self.fc2(out)\n",
    "        out += residual\n",
    "        out = self.relu(out)\n",
    "        return out"
   ]
  },
  {
   "cell_type": "code",
   "execution_count": 8,
   "metadata": {},
   "outputs": [
    {
     "name": "stdout",
     "output_type": "stream",
     "text": [
      "Epoch [1/5], Step [300/1388] Loss: 0.7103\n",
      "Epoch [1/5], Step [600/1388] Loss: 0.6624\n",
      "Epoch [1/5], Step [900/1388] Loss: 0.6904\n",
      "Epoch [1/5], Step [1200/1388] Loss: 0.6088\n",
      "Epoch [2/5], Step [300/1388] Loss: 0.6505\n",
      "Epoch [2/5], Step [600/1388] Loss: 0.5854\n",
      "Epoch [2/5], Step [900/1388] Loss: 0.5579\n",
      "Epoch [2/5], Step [1200/1388] Loss: 0.6975\n",
      "Epoch [3/5], Step [300/1388] Loss: 0.6292\n",
      "Epoch [3/5], Step [600/1388] Loss: 0.7021\n",
      "Epoch [3/5], Step [900/1388] Loss: 0.6143\n",
      "Epoch [3/5], Step [1200/1388] Loss: 0.5633\n",
      "Epoch [4/5], Step [300/1388] Loss: 0.5559\n",
      "Epoch [4/5], Step [600/1388] Loss: 0.6446\n",
      "Epoch [4/5], Step [900/1388] Loss: 0.4680\n",
      "Epoch [4/5], Step [1200/1388] Loss: 0.5760\n",
      "Epoch [5/5], Step [300/1388] Loss: 0.5210\n",
      "Epoch [5/5], Step [600/1388] Loss: 0.5815\n",
      "Epoch [5/5], Step [900/1388] Loss: 0.5284\n",
      "Epoch [5/5], Step [1200/1388] Loss: 0.5842\n"
     ]
    }
   ],
   "source": [
    "model = DeepCrossing(feature_map).to(device)\n",
    "# Loss and optimizer\n",
    "criterion = nn.BCELoss()\n",
    "optimizer = torch.optim.Adam(model.parameters(), lr=learning_rate)\n",
    "\n",
    "# Train the model\n",
    "total_step = len(train_loader)\n",
    "for epoch in range(num_epochs):\n",
    "    for i, (X, y) in enumerate(train_loader):\n",
    "        X = X.to(device)\n",
    "        y = y.to(device)\n",
    "\n",
    "        # Forward pass\n",
    "        output = model(X)\n",
    "        loss = criterion(output, y)\n",
    "        \n",
    "        # Backward and optimize\n",
    "        optimizer.zero_grad()\n",
    "        loss.backward()\n",
    "        optimizer.step()\n",
    "\n",
    "        if (i + 1) % 300 == 0:\n",
    "            print(\"Epoch [{}/{}], Step [{}/{}] Loss: {:.4f}\".format(\n",
    "                epoch + 1, num_epochs, i + 1, total_step, loss.item()))"
   ]
  },
  {
   "cell_type": "code",
   "execution_count": 9,
   "metadata": {},
   "outputs": [
    {
     "name": "stdout",
     "output_type": "stream",
     "text": [
      "Accuracy of the model on the test images: 68.63 %\n"
     ]
    }
   ],
   "source": [
    "# Test the model\n",
    "model.eval()\n",
    "with torch.no_grad():\n",
    "    correct = 0\n",
    "    total = 0\n",
    "    for X, y in test_loader:\n",
    "        X = X.to(device)\n",
    "        y = y.to(device).bool()\n",
    "        output = model(X)\n",
    "        y_pred = output > 0.5\n",
    "        total += y.shape[0]\n",
    "        correct += (y_pred == y).sum().item()\n",
    "\n",
    "    print('Accuracy of the model on the test images: {:.2f} %'.format(\n",
    "        100 * correct / total))"
   ]
  },
  {
   "cell_type": "code",
   "execution_count": null,
   "metadata": {},
   "outputs": [],
   "source": []
  }
 ],
 "metadata": {
  "kernelspec": {
   "display_name": "base",
   "language": "python",
   "name": "python3"
  },
  "language_info": {
   "codemirror_mode": {
    "name": "ipython",
    "version": 3
   },
   "file_extension": ".py",
   "mimetype": "text/x-python",
   "name": "python",
   "nbconvert_exporter": "python",
   "pygments_lexer": "ipython3",
   "version": "3.9.13 (main, Aug 25 2022, 23:51:50) [MSC v.1916 64 bit (AMD64)]"
  },
  "vscode": {
   "interpreter": {
    "hash": "cbb5f3d532aec8608a2fec9573bdcbc5182a804a4738e1f49913b4f315f16aee"
   }
  }
 },
 "nbformat": 4,
 "nbformat_minor": 4
}
