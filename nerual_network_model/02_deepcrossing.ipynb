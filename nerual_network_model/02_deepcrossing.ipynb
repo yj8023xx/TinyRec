{
 "cells": [
  {
   "cell_type": "markdown",
   "metadata": {},
   "source": [
    "# Deep Crossing\n",
    "\n",
    "<img src=\"../../img/embeddingmlp.png\" width=\"500\">\n",
    "\n",
    "- **Embedding 层**。将稀疏的类别型特征（one-hot）转换成稠密的 Embedding 向量\n",
    "- **Stack 层**。把不同的 Embedding 特征和数值型特征拼接在 起，形成新的包含全部特征的特征向量\n",
    "- **Multiple Residual Units 层**。通过多层残差网络对特征向量各个维度进行充分的交叉组合，使模型能够抓取到更多的非线性特征和组合特征的信息，进而使深度学习模型在表达能力上较传统机器习模型大为增强\n",
    "- **Scoring 层**。用于拟合优化目标，对于 CTR 预估问题，Scoring 层往往使用逻辑回归模型"
   ]
  },
  {
   "cell_type": "markdown",
   "metadata": {},
   "source": [
    "## Pytorch"
   ]
  },
  {
   "cell_type": "code",
   "execution_count": 1,
   "metadata": {},
   "outputs": [],
   "source": [
    "import pandas as pd\n",
    "import numpy as np\n",
    "import json\n",
    "import torch\n",
    "from torch import nn\n",
    "from torch.utils.data.dataset import Dataset\n",
    "from collections import OrderedDict"
   ]
  },
  {
   "cell_type": "code",
   "execution_count": 2,
   "metadata": {},
   "outputs": [
    {
     "data": {
      "text/plain": [
       "device(type='cuda')"
      ]
     },
     "execution_count": 2,
     "metadata": {},
     "output_type": "execute_result"
    }
   ],
   "source": [
    "learning_rate = 0.00001\n",
    "batch_size = 64\n",
    "num_epochs = 5\n",
    "device = torch.device('cuda' if torch.cuda.is_available() else 'cpu')\n",
    "device"
   ]
  },
  {
   "cell_type": "code",
   "execution_count": 3,
   "metadata": {},
   "outputs": [
    {
     "data": {
      "text/plain": [
       "{'dataset_id': 'movielens',\n",
       " 'num_fields': 26,\n",
       " 'feature_specs': {'movieId': {'source': 'item',\n",
       "   'type': 'categorical',\n",
       "   'vocab_size': 935,\n",
       "   'index': 0},\n",
       "  'userId': {'source': 'user',\n",
       "   'type': 'categorical',\n",
       "   'vocab_size': 22540,\n",
       "   'index': 1},\n",
       "  'rating': {'source': 'user',\n",
       "   'type': 'numerical',\n",
       "   'vocab_size': 1,\n",
       "   'index': 2},\n",
       "  'timestamp': {'source': 'user',\n",
       "   'type': 'numerical',\n",
       "   'vocab_size': 1,\n",
       "   'index': 3},\n",
       "  'releaseYear': {'source': 'item',\n",
       "   'type': 'numerical',\n",
       "   'vocab_size': 1,\n",
       "   'index': 5},\n",
       "  'movieGenre1': {'source': 'item',\n",
       "   'type': 'categorical',\n",
       "   'vocab_size': 18,\n",
       "   'index': 6},\n",
       "  'movieGenre2': {'source': 'item',\n",
       "   'type': 'categorical',\n",
       "   'vocab_size': 18,\n",
       "   'index': 7},\n",
       "  'movieGenre3': {'source': 'item',\n",
       "   'type': 'categorical',\n",
       "   'vocab_size': 15,\n",
       "   'index': 8},\n",
       "  'movieRatingCount': {'source': 'item',\n",
       "   'type': 'numerical',\n",
       "   'vocab_size': 1,\n",
       "   'index': 9},\n",
       "  'movieAvgRating': {'source': 'item',\n",
       "   'type': 'numerical',\n",
       "   'vocab_size': 1,\n",
       "   'index': 10},\n",
       "  'movieRatingStddev': {'source': 'item',\n",
       "   'type': 'numerical',\n",
       "   'vocab_size': 1,\n",
       "   'index': 11},\n",
       "  'userRatedMovie1': {'source': 'user',\n",
       "   'type': 'categorical',\n",
       "   'vocab_size': 882,\n",
       "   'index': 12},\n",
       "  'userRatedMovie2': {'source': 'user',\n",
       "   'type': 'categorical',\n",
       "   'vocab_size': 874,\n",
       "   'index': 13},\n",
       "  'userRatedMovie3': {'source': 'user',\n",
       "   'type': 'categorical',\n",
       "   'vocab_size': 877,\n",
       "   'index': 14},\n",
       "  'userRatedMovie4': {'source': 'user',\n",
       "   'type': 'categorical',\n",
       "   'vocab_size': 871,\n",
       "   'index': 15},\n",
       "  'userRatedMovie5': {'source': 'user',\n",
       "   'type': 'categorical',\n",
       "   'vocab_size': 864,\n",
       "   'index': 16},\n",
       "  'userRatingCount': {'source': 'user',\n",
       "   'type': 'numerical',\n",
       "   'vocab_size': 1,\n",
       "   'index': 17},\n",
       "  'userAvgReleaseYear': {'source': 'user',\n",
       "   'type': 'numerical',\n",
       "   'vocab_size': 1,\n",
       "   'index': 18},\n",
       "  'userReleaseYearStddev': {'source': 'user',\n",
       "   'type': 'numerical',\n",
       "   'vocab_size': 1,\n",
       "   'index': 19},\n",
       "  'userAvgRating': {'source': 'user',\n",
       "   'type': 'numerical',\n",
       "   'vocab_size': 1,\n",
       "   'index': 20},\n",
       "  'userRatingStddev': {'source': 'user',\n",
       "   'type': 'numerical',\n",
       "   'vocab_size': 1,\n",
       "   'index': 21},\n",
       "  'userGenre1': {'source': 'user',\n",
       "   'type': 'categorical',\n",
       "   'vocab_size': 19,\n",
       "   'index': 22},\n",
       "  'userGenre2': {'source': 'user',\n",
       "   'type': 'categorical',\n",
       "   'vocab_size': 19,\n",
       "   'index': 23},\n",
       "  'userGenre3': {'source': 'user',\n",
       "   'type': 'categorical',\n",
       "   'vocab_size': 19,\n",
       "   'index': 24},\n",
       "  'userGenre4': {'source': 'user',\n",
       "   'type': 'categorical',\n",
       "   'vocab_size': 19,\n",
       "   'index': 25},\n",
       "  'userGenre5': {'source': 'user',\n",
       "   'type': 'categorical',\n",
       "   'vocab_size': 19,\n",
       "   'index': 26}}}"
      ]
     },
     "execution_count": 3,
     "metadata": {},
     "output_type": "execute_result"
    }
   ],
   "source": [
    "with open('../data/movielens/feature_map.json') as obj:\n",
    "    feature_map = json.load(obj)\n",
    "feature_map"
   ]
  },
  {
   "cell_type": "code",
   "execution_count": 4,
   "metadata": {},
   "outputs": [],
   "source": [
    "class MovielensDataset(Dataset):\n",
    "    def __init__(self, url):\n",
    "        self.df = pd.read_csv(url)\n",
    "    \n",
    "    def __getitem__(self, idx):\n",
    "        x, y = self.df.iloc[idx, :-1].values.astype(np.float32), self.df.iloc[idx, -1].astype(np.float32)\n",
    "        return x, y\n",
    "    \n",
    "    def __len__(self):\n",
    "        return self.df.shape[0]"
   ]
  },
  {
   "cell_type": "code",
   "execution_count": 5,
   "metadata": {},
   "outputs": [],
   "source": [
    "train_dataset = MovielensDataset('../data/movielens/data_for_train.csv')\n",
    "test_dataset = MovielensDataset('../data/movielens/data_for_test.csv')"
   ]
  },
  {
   "cell_type": "code",
   "execution_count": 6,
   "metadata": {},
   "outputs": [],
   "source": [
    "# Data loader\n",
    "train_loader = torch.utils.data.DataLoader(dataset=train_dataset,\n",
    "                                           batch_size=batch_size,\n",
    "                                           shuffle=True)\n",
    "\n",
    "test_loader = torch.utils.data.DataLoader(dataset=test_dataset,\n",
    "                                          batch_size=batch_size,\n",
    "                                          shuffle=False)"
   ]
  },
  {
   "cell_type": "code",
   "execution_count": 7,
   "metadata": {},
   "outputs": [],
   "source": [
    "class DeepCrossing(nn.Module):\n",
    "    def __init__(self,\n",
    "                 feature_map,\n",
    "                 embedding_dim=10,\n",
    "                 hidden_units=[256, 128, 64]):\n",
    "        super(DeepCrossing, self).__init__()\n",
    "        self.feature_map = feature_map\n",
    "        self.embedding = nn.ModuleDict()\n",
    "        for feature, feature_spec in feature_map['feature_specs'].items():\n",
    "            if feature_spec['type'] == 'numerical':\n",
    "                self.embedding[feature] = nn.Linear(1, embedding_dim, bias=False)\n",
    "            elif feature_spec['type'] == 'categorical':\n",
    "                padding_idx = feature_spec.get('padding_idx', None)\n",
    "                self.embedding[feature] = nn.Embedding(feature_spec['vocab_size'],\n",
    "                                                       embedding_dim,\n",
    "                                                       padding_idx=padding_idx)\n",
    "        input_dim = feature_map['num_fields'] * embedding_dim\n",
    "        hidden_units = [input_dim] + hidden_units\n",
    "        residual_layers = []\n",
    "        for hidden_dim in hidden_units:\n",
    "            residual_layers.append(ResidualBlock(input_dim,\n",
    "                                                 hidden_dim))\n",
    "        residual_layers.append(nn.Linear(input_dim, 1))\n",
    "        self.residual_layer = nn.Sequential(*residual_layers)\n",
    "        self.scoring = nn.Sigmoid()\n",
    "\n",
    "    def forward(self, X):\n",
    "        feature_emb_list = []\n",
    "        for feature, feature_spec in self.feature_map['feature_specs'].items():\n",
    "            if feature_spec['type'] == 'numerical':\n",
    "                raw_feature = X[:, feature_spec['index']].float().view(-1, 1)\n",
    "            elif feature_spec['type'] == 'categorical':\n",
    "                raw_feature = X[:, feature_spec['index']].long()\n",
    "            embedding_vec = self.embedding[feature](raw_feature)\n",
    "            feature_emb_list.append(embedding_vec)\n",
    "        feature_emb = torch.stack(feature_emb_list, dim=1)\n",
    "        feature_residual = self.residual_layer(feature_emb.flatten(start_dim=1))\n",
    "        y_pred = self.scoring(feature_residual).squeeze(1)\n",
    "        return y_pred\n",
    "\n",
    "\n",
    "class ResidualBlock(nn.Module):\n",
    "    def __init__(self,\n",
    "                 input_dim,\n",
    "                 hidden_dim):\n",
    "        super(ResidualBlock, self).__init__()\n",
    "        self.fc1 = nn.Linear(input_dim, hidden_dim)\n",
    "        self.fc2 = nn.Linear(hidden_dim, input_dim)\n",
    "        self.relu = nn.ReLU()\n",
    "\n",
    "    def forward(self, X):\n",
    "        residual = X\n",
    "        out = self.fc1(X)\n",
    "        out = self.relu(out)\n",
    "        out = self.fc2(out)\n",
    "        out += residual\n",
    "        out = self.relu(out)\n",
    "        return out"
   ]
  },
  {
   "cell_type": "code",
   "execution_count": 8,
   "metadata": {},
   "outputs": [
    {
     "name": "stdout",
     "output_type": "stream",
     "text": [
      "Epoch [1/5], Step [300/1388] Loss: 0.6822\n",
      "Epoch [1/5], Step [600/1388] Loss: 0.6414\n",
      "Epoch [1/5], Step [900/1388] Loss: 0.6364\n",
      "Epoch [1/5], Step [1200/1388] Loss: 0.5439\n",
      "Epoch [2/5], Step [300/1388] Loss: 0.2867\n",
      "Epoch [2/5], Step [600/1388] Loss: 0.2195\n",
      "Epoch [2/5], Step [900/1388] Loss: 0.2013\n",
      "Epoch [2/5], Step [1200/1388] Loss: 0.0786\n",
      "Epoch [3/5], Step [300/1388] Loss: 0.0493\n",
      "Epoch [3/5], Step [600/1388] Loss: 0.0814\n",
      "Epoch [3/5], Step [900/1388] Loss: 0.0233\n",
      "Epoch [3/5], Step [1200/1388] Loss: 0.0599\n",
      "Epoch [4/5], Step [300/1388] Loss: 0.0501\n",
      "Epoch [4/5], Step [600/1388] Loss: 0.0272\n",
      "Epoch [4/5], Step [900/1388] Loss: 0.0792\n",
      "Epoch [4/5], Step [1200/1388] Loss: 0.0169\n",
      "Epoch [5/5], Step [300/1388] Loss: 0.0325\n",
      "Epoch [5/5], Step [600/1388] Loss: 0.0136\n",
      "Epoch [5/5], Step [900/1388] Loss: 0.0084\n",
      "Epoch [5/5], Step [1200/1388] Loss: 0.0283\n"
     ]
    }
   ],
   "source": [
    "model = DeepCrossing(feature_map).to(device)\n",
    "# Loss and optimizer\n",
    "criterion = nn.BCELoss()\n",
    "optimizer = torch.optim.Adam(model.parameters(), lr=learning_rate)\n",
    "\n",
    "# Train the model\n",
    "total_step = len(train_loader)\n",
    "for epoch in range(num_epochs):\n",
    "    for i, (X, y) in enumerate(train_loader):\n",
    "        X = X.to(device)\n",
    "        y = y.to(device)\n",
    "\n",
    "        # Forward pass\n",
    "        output = model(X)\n",
    "        loss = criterion(output, y)\n",
    "        \n",
    "        # Backward and optimize\n",
    "        optimizer.zero_grad()\n",
    "        loss.backward()\n",
    "        optimizer.step()\n",
    "\n",
    "        if (i + 1) % 300 == 0:\n",
    "            print(\"Epoch [{}/{}], Step [{}/{}] Loss: {:.4f}\".format(\n",
    "                epoch + 1, num_epochs, i + 1, total_step, loss.item()))"
   ]
  },
  {
   "cell_type": "code",
   "execution_count": 9,
   "metadata": {},
   "outputs": [
    {
     "name": "stdout",
     "output_type": "stream",
     "text": [
      "Accuracy of the model on the test images: 99.10 %\n"
     ]
    }
   ],
   "source": [
    "# Test the model\n",
    "model.eval()\n",
    "with torch.no_grad():\n",
    "    correct = 0\n",
    "    total = 0\n",
    "    for X, y in test_loader:\n",
    "        X = X.to(device)\n",
    "        y = y.to(device).bool()\n",
    "        output = model(X)\n",
    "        y_pred = output > 0.5\n",
    "        total += y.shape[0]\n",
    "        correct += (y_pred == y).sum().item()\n",
    "\n",
    "    print('Accuracy of the model on the test images: {:.2f} %'.format(\n",
    "        100 * correct / total))"
   ]
  },
  {
   "cell_type": "markdown",
   "metadata": {},
   "source": [
    "## Tensorflow"
   ]
  },
  {
   "cell_type": "markdown",
   "metadata": {},
   "source": [
    "### 读取数据"
   ]
  },
  {
   "cell_type": "code",
   "execution_count": 1,
   "metadata": {},
   "outputs": [],
   "source": [
    "import tensorflow as tf"
   ]
  },
  {
   "cell_type": "code",
   "execution_count": 2,
   "metadata": {},
   "outputs": [],
   "source": [
    "# Training samples path, change to your local path\n",
    "training_samples_file_path = tf.keras.utils.get_file(\n",
    "    'trainingSamples.csv', '../data/trainingSamples.csv')\n",
    "# Test samples path, change to your local path\n",
    "test_samples_file_path = tf.keras.utils.get_file('testSamples.csv',\n",
    "                                                 '../data/testSamples.csv')\n",
    "\n",
    "\n",
    "# load sample as tf dataset\n",
    "def get_dataset(file_path):\n",
    "    dataset = tf.data.experimental.make_csv_dataset(file_path,\n",
    "                                                    batch_size=12,\n",
    "                                                    label_name='label',\n",
    "                                                    na_value='0',\n",
    "                                                    num_epochs=1,\n",
    "                                                    ignore_errors=True)\n",
    "    return dataset\n",
    "\n",
    "\n",
    "# split as test dataset and training dataset\n",
    "train_data = get_dataset(training_samples_file_path)\n",
    "test_data = get_dataset(test_samples_file_path)"
   ]
  },
  {
   "cell_type": "markdown",
   "metadata": {},
   "source": [
    "### 特征工程"
   ]
  },
  {
   "cell_type": "code",
   "execution_count": 3,
   "metadata": {},
   "outputs": [],
   "source": [
    "# genre features vocabulary 电影类型特征\n",
    "genre_vocab = [\n",
    "    'Film-Noir', 'Action', 'Adventure', 'Horror', 'Romance', 'War', 'Comedy',\n",
    "    'Western', 'Documentary', 'Sci-Fi', 'Drama', 'Thriller', 'Crime',\n",
    "    'Fantasy', 'Animation', 'IMAX', 'Mystery', 'Children', 'Musical'\n",
    "]\n",
    "\n",
    "GENRE_FEATURES = {\n",
    "    'userGenre1': genre_vocab,\n",
    "    'userGenre2': genre_vocab,\n",
    "    'userGenre3': genre_vocab,\n",
    "    'userGenre4': genre_vocab,\n",
    "    'userGenre5': genre_vocab,\n",
    "    'movieGenre1': genre_vocab,\n",
    "    'movieGenre2': genre_vocab,\n",
    "    'movieGenre3': genre_vocab\n",
    "}\n",
    "\n",
    "# all categorical features\n",
    "categorical_columns = []\n",
    "for feature, vocab in GENRE_FEATURES.items():\n",
    "    cat_col = tf.feature_column.categorical_column_with_vocabulary_list(  # convert the categorical feature to one-hot feature\n",
    "        key=feature, vocabulary_list=vocab)\n",
    "    emb_col = tf.feature_column.embedding_column(cat_col, 10) # convert the one-hot to embedding\n",
    "    categorical_columns.append(emb_col)\n",
    "\n",
    "# movie id embedding feature\n",
    "# Use this when your inputs are integers in the range [0, num_buckets), and you want to use the input value itself as the categorical ID.\n",
    "movie_col = tf.feature_column.categorical_column_with_identity(\n",
    "    key='movieId', num_buckets=1001)\n",
    "movie_emb_col = tf.feature_column.embedding_column(movie_col, 10)\n",
    "categorical_columns.append(movie_emb_col)\n",
    "\n",
    "# user id embedding feature\n",
    "user_col = tf.feature_column.categorical_column_with_identity(\n",
    "    key='userId', num_buckets=30001)\n",
    "user_emb_col = tf.feature_column.embedding_column(user_col, 10)\n",
    "categorical_columns.append(user_emb_col)\n",
    "\n",
    "# all numerical features\n",
    "numerical_columns = [\n",
    "    tf.feature_column.numeric_column('releaseYear'),\n",
    "    tf.feature_column.numeric_column('movieRatingCount'),\n",
    "    tf.feature_column.numeric_column('movieAvgRating'),\n",
    "    tf.feature_column.numeric_column('movieRatingStddev'),\n",
    "    tf.feature_column.numeric_column('userRatingCount'),\n",
    "    tf.feature_column.numeric_column('userAvgRating'),\n",
    "    tf.feature_column.numeric_column('userRatingStddev')\n",
    "]"
   ]
  },
  {
   "cell_type": "markdown",
   "metadata": {},
   "source": [
    "### 模型训练"
   ]
  },
  {
   "cell_type": "code",
   "execution_count": 4,
   "metadata": {
    "scrolled": false
   },
   "outputs": [
    {
     "name": "stdout",
     "output_type": "stream",
     "text": [
      "Epoch 1/5\n"
     ]
    },
    {
     "name": "stderr",
     "output_type": "stream",
     "text": [
      "/opt/anaconda3/lib/python3.7/site-packages/tensorflow/python/keras/engine/functional.py:595: UserWarning: Input dict contained keys ['rating', 'timestamp', 'userRatedMovie1', 'userRatedMovie2', 'userRatedMovie3', 'userRatedMovie4', 'userRatedMovie5', 'userAvgReleaseYear', 'userReleaseYearStddev'] which did not match any model input. They will be ignored by the model.\n",
      "  [n for n in tensors.keys() if n not in ref_input_names])\n"
     ]
    },
    {
     "name": "stdout",
     "output_type": "stream",
     "text": [
      "7403/7403 [==============================] - 28s 3ms/step - loss: 4.6167 - accuracy: 0.5541 - auc: 0.5615 - auc_1: 0.6128\n",
      "Epoch 2/5\n",
      "7403/7403 [==============================] - 25s 3ms/step - loss: 0.6884 - accuracy: 0.6452 - auc: 0.6854 - auc_1: 0.7160\n",
      "Epoch 3/5\n",
      "7403/7403 [==============================] - 26s 4ms/step - loss: 0.5687 - accuracy: 0.7099 - auc: 0.7704 - auc_1: 0.7888\n",
      "Epoch 4/5\n",
      "7403/7403 [==============================] - 29s 4ms/step - loss: 0.5259 - accuracy: 0.7386 - auc: 0.8093 - auc_1: 0.8310\n",
      "Epoch 5/5\n",
      "7403/7403 [==============================] - 27s 4ms/step - loss: 0.5030 - accuracy: 0.7550 - auc: 0.8289 - auc_1: 0.8516\n",
      "1870/1870 [==============================] - 4s 2ms/step - loss: 0.6035 - accuracy: 0.6959 - auc: 0.7536 - auc_1: 0.7817\n",
      "\n",
      "\n",
      "Test Loss 0.6035098433494568, Test Accuracy 0.6959447264671326, Test ROC AUC 0.75357985496521, Test PR AUC 0.7817345857620239\n"
     ]
    }
   ],
   "source": [
    "# embedding + MLP model architecture\n",
    "# define input for keras model\n",
    "inputs = {\n",
    "    'movieId':\n",
    "    tf.keras.layers.Input(name='movieId', shape=(), dtype='int32'),\n",
    "    'userId':\n",
    "    tf.keras.layers.Input(name='userId', shape=(), dtype='int32'),\n",
    "    'userGenre1':\n",
    "    tf.keras.layers.Input(name='userGenre1', shape=(), dtype='string'),\n",
    "    'userGenre2':\n",
    "    tf.keras.layers.Input(name='userGenre2', shape=(), dtype='string'),\n",
    "    'userGenre3':\n",
    "    tf.keras.layers.Input(name='userGenre3', shape=(), dtype='string'),\n",
    "    'userGenre4':\n",
    "    tf.keras.layers.Input(name='userGenre4', shape=(), dtype='string'),\n",
    "    'userGenre5':\n",
    "    tf.keras.layers.Input(name='userGenre5', shape=(), dtype='string'),\n",
    "    'movieGenre1':\n",
    "    tf.keras.layers.Input(name='movieGenre1', shape=(), dtype='string'),\n",
    "    'movieGenre2':\n",
    "    tf.keras.layers.Input(name='movieGenre2', shape=(), dtype='string'),\n",
    "    'movieGenre3':\n",
    "    tf.keras.layers.Input(name='movieGenre3', shape=(), dtype='string'),\n",
    "    'releaseYear':\n",
    "    tf.keras.layers.Input(name='releaseYear', shape=(), dtype='int32'),\n",
    "    'movieRatingCount':\n",
    "    tf.keras.layers.Input(name='movieRatingCount', shape=(), dtype='int32'),\n",
    "    'movieAvgRating':\n",
    "    tf.keras.layers.Input(name='movieAvgRating', shape=(), dtype='float32'),\n",
    "    'movieRatingStddev':\n",
    "    tf.keras.layers.Input(name='movieRatingStddev', shape=(), dtype='float32'),\n",
    "    'userRatingCount':\n",
    "    tf.keras.layers.Input(name='userRatingCount', shape=(), dtype='int32'),\n",
    "    'userAvgRating':\n",
    "    tf.keras.layers.Input(name='userAvgRating', shape=(), dtype='float32'),\n",
    "    'userRatingStddev':\n",
    "    tf.keras.layers.Input(name='userRatingStddev', shape=(), dtype='float32')\n",
    "}\n",
    "\n",
    "outputs = tf.keras.layers.DenseFeatures(numerical_columns +\n",
    "                                        categorical_columns)(inputs)\n",
    "\n",
    "outputs = tf.keras.layers.Dense(128, activation='relu')(outputs)\n",
    "outputs = tf.keras.layers.Dense(128, activation='relu')(outputs)\n",
    "outputs = tf.keras.layers.Dense(1, activation='sigmoid')(outputs)\n",
    "\n",
    "model = tf.keras.Model(inputs, outputs)\n",
    "\n",
    "# compile the model, set loss function, optimizer and evaluation metrics\n",
    "model.compile(loss='binary_crossentropy',\n",
    "              optimizer='adam',\n",
    "              metrics=[\n",
    "                  'accuracy',\n",
    "                  tf.keras.metrics.AUC(curve='ROC'),\n",
    "                  tf.keras.metrics.AUC(curve='PR')\n",
    "              ])\n",
    "\n",
    "# train the model\n",
    "model.fit(train_data, epochs=5)\n",
    "\n",
    "# evaluate the model\n",
    "test_loss, test_accuracy, test_roc_auc, test_pr_auc = model.evaluate(\n",
    "    test_data)\n",
    "print('\\n\\nTest Loss {}, Test Accuracy {}, Test ROC AUC {}, Test PR AUC {}'.\n",
    "      format(test_loss, test_accuracy, test_roc_auc, test_pr_auc))"
   ]
  },
  {
   "cell_type": "markdown",
   "metadata": {},
   "source": [
    "### 模型预测"
   ]
  },
  {
   "cell_type": "code",
   "execution_count": 5,
   "metadata": {},
   "outputs": [
    {
     "name": "stdout",
     "output_type": "stream",
     "text": [
      "Predicted good rating: 74.29%  | Actual rating label:  Bad Rating\n",
      "Predicted good rating: 39.92%  | Actual rating label:  Good Rating\n",
      "Predicted good rating: 27.14%  | Actual rating label:  Bad Rating\n",
      "Predicted good rating: 82.99%  | Actual rating label:  Good Rating\n",
      "Predicted good rating: 33.82%  | Actual rating label:  Good Rating\n",
      "Predicted good rating: 89.15%  | Actual rating label:  Bad Rating\n",
      "Predicted good rating: 27.84%  | Actual rating label:  Bad Rating\n",
      "Predicted good rating: 69.76%  | Actual rating label:  Bad Rating\n",
      "Predicted good rating: 39.88%  | Actual rating label:  Bad Rating\n",
      "Predicted good rating: 69.86%  | Actual rating label:  Good Rating\n",
      "Predicted good rating: 45.90%  | Actual rating label:  Bad Rating\n",
      "Predicted good rating: 5.60%  | Actual rating label:  Bad Rating\n"
     ]
    }
   ],
   "source": [
    "# print some predict results\n",
    "predictions = model.predict(test_data)\n",
    "for prediction, goodRating in zip(predictions[:12],\n",
    "                                  list(test_data)[0][1][:12]):\n",
    "    print('Predicted good rating: {:.2%}'.format(prediction[0]),\n",
    "          ' | Actual rating label: ',\n",
    "          ('Good Rating' if bool(goodRating) else 'Bad Rating'))"
   ]
  },
  {
   "cell_type": "code",
   "execution_count": null,
   "metadata": {},
   "outputs": [],
   "source": []
  }
 ],
 "metadata": {
  "kernelspec": {
   "display_name": "Python 3 (ipykernel)",
   "language": "python",
   "name": "python3"
  },
  "language_info": {
   "codemirror_mode": {
    "name": "ipython",
    "version": 3
   },
   "file_extension": ".py",
   "mimetype": "text/x-python",
   "name": "python",
   "nbconvert_exporter": "python",
   "pygments_lexer": "ipython3",
   "version": "3.9.13"
  }
 },
 "nbformat": 4,
 "nbformat_minor": 4
}
