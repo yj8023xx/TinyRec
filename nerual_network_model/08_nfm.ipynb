{
 "cells": [
  {
   "cell_type": "markdown",
   "id": "2d35fa26",
   "metadata": {},
   "source": [
    "# NFM\n",
    "\n",
    "<img src=\"../img/nfm.png\" width=\"600\">"
   ]
  },
  {
   "cell_type": "code",
   "execution_count": 1,
   "id": "a9ae1fd3",
   "metadata": {},
   "outputs": [],
   "source": [
    "import pandas as pd\n",
    "import numpy as np\n",
    "import json\n",
    "import torch\n",
    "from torch import nn\n",
    "from torch.utils.data.dataset import Dataset\n",
    "from collections import OrderedDict"
   ]
  },
  {
   "cell_type": "code",
   "execution_count": 2,
   "id": "8e624864",
   "metadata": {},
   "outputs": [
    {
     "data": {
      "text/plain": [
       "device(type='cuda')"
      ]
     },
     "execution_count": 2,
     "metadata": {},
     "output_type": "execute_result"
    }
   ],
   "source": [
    "learning_rate = 0.001\n",
    "batch_size = 64\n",
    "num_epochs = 5\n",
    "device = torch.device('cuda' if torch.cuda.is_available() else 'cpu')\n",
    "device"
   ]
  },
  {
   "cell_type": "code",
   "execution_count": 3,
   "id": "5b859ddf",
   "metadata": {},
   "outputs": [
    {
     "data": {
      "text/plain": [
       "{'dataset_id': 'movielens',\n",
       " 'num_fields': 26,\n",
       " 'feature_specs': {'movieId': {'source': 'item',\n",
       "   'type': 'categorical',\n",
       "   'vocab_size': 935,\n",
       "   'index': 0},\n",
       "  'userId': {'source': 'user',\n",
       "   'type': 'categorical',\n",
       "   'vocab_size': 22540,\n",
       "   'index': 1},\n",
       "  'rating': {'source': 'user',\n",
       "   'type': 'numerical',\n",
       "   'vocab_size': 1,\n",
       "   'index': 2},\n",
       "  'timestamp': {'source': 'user',\n",
       "   'type': 'numerical',\n",
       "   'vocab_size': 1,\n",
       "   'index': 3},\n",
       "  'releaseYear': {'source': 'item',\n",
       "   'type': 'numerical',\n",
       "   'vocab_size': 1,\n",
       "   'index': 4},\n",
       "  'movieGenre1': {'source': 'item',\n",
       "   'type': 'categorical',\n",
       "   'vocab_size': 18,\n",
       "   'index': 5},\n",
       "  'movieGenre2': {'source': 'item',\n",
       "   'type': 'categorical',\n",
       "   'vocab_size': 18,\n",
       "   'index': 6},\n",
       "  'movieGenre3': {'source': 'item',\n",
       "   'type': 'categorical',\n",
       "   'vocab_size': 15,\n",
       "   'index': 7},\n",
       "  'movieRatingCount': {'source': 'item',\n",
       "   'type': 'numerical',\n",
       "   'vocab_size': 1,\n",
       "   'index': 8},\n",
       "  'movieAvgRating': {'source': 'item',\n",
       "   'type': 'numerical',\n",
       "   'vocab_size': 1,\n",
       "   'index': 9},\n",
       "  'movieRatingStddev': {'source': 'item',\n",
       "   'type': 'numerical',\n",
       "   'vocab_size': 1,\n",
       "   'index': 10},\n",
       "  'userRatedMovie1': {'source': 'user',\n",
       "   'type': 'categorical',\n",
       "   'vocab_size': 882,\n",
       "   'index': 11},\n",
       "  'userRatedMovie2': {'source': 'user',\n",
       "   'type': 'categorical',\n",
       "   'vocab_size': 874,\n",
       "   'index': 12},\n",
       "  'userRatedMovie3': {'source': 'user',\n",
       "   'type': 'categorical',\n",
       "   'vocab_size': 877,\n",
       "   'index': 13},\n",
       "  'userRatedMovie4': {'source': 'user',\n",
       "   'type': 'categorical',\n",
       "   'vocab_size': 871,\n",
       "   'index': 14},\n",
       "  'userRatedMovie5': {'source': 'user',\n",
       "   'type': 'categorical',\n",
       "   'vocab_size': 864,\n",
       "   'index': 15},\n",
       "  'userRatingCount': {'source': 'user',\n",
       "   'type': 'numerical',\n",
       "   'vocab_size': 1,\n",
       "   'index': 16},\n",
       "  'userAvgReleaseYear': {'source': 'user',\n",
       "   'type': 'numerical',\n",
       "   'vocab_size': 1,\n",
       "   'index': 17},\n",
       "  'userReleaseYearStddev': {'source': 'user',\n",
       "   'type': 'numerical',\n",
       "   'vocab_size': 1,\n",
       "   'index': 18},\n",
       "  'userAvgRating': {'source': 'user',\n",
       "   'type': 'numerical',\n",
       "   'vocab_size': 1,\n",
       "   'index': 19},\n",
       "  'userRatingStddev': {'source': 'user',\n",
       "   'type': 'numerical',\n",
       "   'vocab_size': 1,\n",
       "   'index': 20},\n",
       "  'userGenre1': {'source': 'user',\n",
       "   'type': 'categorical',\n",
       "   'vocab_size': 19,\n",
       "   'index': 21},\n",
       "  'userGenre2': {'source': 'user',\n",
       "   'type': 'categorical',\n",
       "   'vocab_size': 19,\n",
       "   'index': 22},\n",
       "  'userGenre3': {'source': 'user',\n",
       "   'type': 'categorical',\n",
       "   'vocab_size': 19,\n",
       "   'index': 23},\n",
       "  'userGenre4': {'source': 'user',\n",
       "   'type': 'categorical',\n",
       "   'vocab_size': 19,\n",
       "   'index': 24},\n",
       "  'userGenre5': {'source': 'user',\n",
       "   'type': 'categorical',\n",
       "   'vocab_size': 19,\n",
       "   'index': 25}}}"
      ]
     },
     "execution_count": 3,
     "metadata": {},
     "output_type": "execute_result"
    }
   ],
   "source": [
    "with open('../data/movielens/feature_map.json') as obj:\n",
    "    feature_map = json.load(obj)\n",
    "feature_map"
   ]
  },
  {
   "cell_type": "code",
   "execution_count": 4,
   "id": "97dceec0",
   "metadata": {},
   "outputs": [],
   "source": [
    "class MovielensDataset(Dataset):\n",
    "    def __init__(self, url):\n",
    "        self.df = pd.read_csv(url)\n",
    "    \n",
    "    def __getitem__(self, idx):\n",
    "        x, y = self.df.iloc[idx, :-1].values.astype(np.float32), self.df.iloc[idx, -1].astype(np.float32)\n",
    "        return x, y\n",
    "    \n",
    "    def __len__(self):\n",
    "        return self.df.shape[0]"
   ]
  },
  {
   "cell_type": "code",
   "execution_count": 5,
   "id": "5ea72e68",
   "metadata": {},
   "outputs": [],
   "source": [
    "train_dataset = MovielensDataset('../data/movielens/data_for_train.csv')\n",
    "test_dataset = MovielensDataset('../data/movielens/data_for_test.csv')"
   ]
  },
  {
   "cell_type": "code",
   "execution_count": 6,
   "id": "59e342cc",
   "metadata": {},
   "outputs": [],
   "source": [
    "# Data loader\n",
    "train_loader = torch.utils.data.DataLoader(dataset=train_dataset,\n",
    "                                           batch_size=batch_size,\n",
    "                                           shuffle=True)\n",
    "\n",
    "test_loader = torch.utils.data.DataLoader(dataset=test_dataset,\n",
    "                                          batch_size=batch_size,\n",
    "                                          shuffle=False)"
   ]
  },
  {
   "cell_type": "code",
   "execution_count": 7,
   "id": "97fb3e97",
   "metadata": {},
   "outputs": [],
   "source": [
    "class NFM(nn.Module):\n",
    "    def __init__(self,\n",
    "                 feature_map,\n",
    "                 embedding_dim=10,\n",
    "                 hidden_units=[256, 128, 64]):\n",
    "        super(NFM, self).__init__()\n",
    "        self.feature_map = feature_map\n",
    "        # Embedding\n",
    "        self.embedding = nn.ModuleDict()\n",
    "        for feature, feature_spec in feature_map['feature_specs'].items():\n",
    "            if feature_spec['type'] == 'numerical':\n",
    "                self.embedding[feature] = nn.Linear(1, embedding_dim, bias=False)\n",
    "            elif feature_spec['type'] == 'categorical':\n",
    "                padding_idx = feature_spec.get('padding_idx', None)\n",
    "                self.embedding[feature] = nn.Embedding(feature_spec['vocab_size'],\n",
    "                                                       embedding_dim,\n",
    "                                                       padding_idx=padding_idx)\n",
    "        # LR\n",
    "        self.batch_norm = nn.BatchNorm1d(feature_map['num_fields'])\n",
    "        self.lr_layer = nn.Linear(feature_map['num_fields'], 1)\n",
    "        # B-Interaction Layer\n",
    "        self.bi_interaction_layer = BiInteractionPooling()\n",
    "        # DNN\n",
    "        hidden_units = [embedding_dim] + hidden_units\n",
    "        hidden_layers = []\n",
    "        for i in range(len(hidden_units) - 1):\n",
    "            hidden_layers.append(nn.Linear(hidden_units[i], hidden_units[i + 1]))\n",
    "            hidden_layers.append(nn.ReLU())\n",
    "        hidden_layers.append(nn.Linear(hidden_units[-1], 1))\n",
    "        self.dense_layer = nn.Sequential(*hidden_layers)\n",
    "        # Sigmoid\n",
    "        self.output_activation = nn.Sigmoid()\n",
    "\n",
    "    def forward(self, X):\n",
    "        feature_emb_list = []\n",
    "        for feature, feature_spec in self.feature_map['feature_specs'].items():\n",
    "            if feature_spec['type'] == 'numerical':\n",
    "                raw_feature = X[:, feature_spec['index']].float().view(-1, 1)\n",
    "            elif feature_spec['type'] == 'categorical':\n",
    "                raw_feature = X[:, feature_spec['index']].long()\n",
    "            embedding_vec = self.embedding[feature](raw_feature)\n",
    "            feature_emb_list.append(embedding_vec)\n",
    "        feature_emb = torch.stack(feature_emb_list, dim=1)\n",
    "        out = self.lr_layer(self.batch_norm(X))\n",
    "        bi_pooling_vec = self.bi_interaction_layer(feature_emb)\n",
    "        out += self.dense_layer(bi_pooling_vec)\n",
    "        y_pred = self.output_activation(out).squeeze(1)\n",
    "        return y_pred\n",
    "\n",
    "class BiInteractionPooling(nn.Module):\n",
    "    def __init__(self):\n",
    "        super(BiInteractionPooling, self).__init__()\n",
    "        \n",
    "    def forward(self, X):\n",
    "        sum_of_square = torch.sum(X, dim=1) ** 2 # sum then square\n",
    "        square_of_sum = torch.sum(X ** 2, dim=1) # square then sum\n",
    "        bi_interaction = (sum_of_square - square_of_sum) * 0.5\n",
    "        return bi_interaction"
   ]
  },
  {
   "cell_type": "code",
   "execution_count": 8,
   "id": "cfca662e",
   "metadata": {},
   "outputs": [
    {
     "name": "stdout",
     "output_type": "stream",
     "text": [
      "Epoch [1/5], Step [300/1388] Loss: 0.3969\n",
      "Epoch [1/5], Step [600/1388] Loss: 0.3406\n",
      "Epoch [1/5], Step [900/1388] Loss: 0.1842\n",
      "Epoch [1/5], Step [1200/1388] Loss: 0.2566\n",
      "Epoch [2/5], Step [300/1388] Loss: 0.1183\n",
      "Epoch [2/5], Step [600/1388] Loss: 0.0979\n",
      "Epoch [2/5], Step [900/1388] Loss: 0.0565\n",
      "Epoch [2/5], Step [1200/1388] Loss: 0.0461\n",
      "Epoch [3/5], Step [300/1388] Loss: 0.0659\n",
      "Epoch [3/5], Step [600/1388] Loss: 0.0717\n",
      "Epoch [3/5], Step [900/1388] Loss: 0.0213\n",
      "Epoch [3/5], Step [1200/1388] Loss: 0.0241\n",
      "Epoch [4/5], Step [300/1388] Loss: 0.0274\n",
      "Epoch [4/5], Step [600/1388] Loss: 0.0214\n",
      "Epoch [4/5], Step [900/1388] Loss: 0.0359\n",
      "Epoch [4/5], Step [1200/1388] Loss: 0.0100\n",
      "Epoch [5/5], Step [300/1388] Loss: 0.0128\n",
      "Epoch [5/5], Step [600/1388] Loss: 0.0249\n",
      "Epoch [5/5], Step [900/1388] Loss: 0.0114\n",
      "Epoch [5/5], Step [1200/1388] Loss: 0.0040\n"
     ]
    }
   ],
   "source": [
    "model = NFM(feature_map).to(device)\n",
    "# Loss and optimizer\n",
    "criterion = nn.BCELoss()\n",
    "optimizer = torch.optim.Adam(model.parameters(), lr=learning_rate)\n",
    "\n",
    "# Train the model\n",
    "total_step = len(train_loader)\n",
    "for epoch in range(num_epochs):\n",
    "    for i, (X, y) in enumerate(train_loader):\n",
    "        X = X.to(device)\n",
    "        y = y.to(device)\n",
    "\n",
    "        # Forward pass\n",
    "        output = model(X)\n",
    "        loss = criterion(output, y)\n",
    "        \n",
    "        # Backward and optimize\n",
    "        optimizer.zero_grad()\n",
    "        loss.backward()\n",
    "        optimizer.step()\n",
    "\n",
    "        if (i + 1) % 300 == 0:\n",
    "            print(\"Epoch [{}/{}], Step [{}/{}] Loss: {:.4f}\".format(\n",
    "                epoch + 1, num_epochs, i + 1, total_step, loss.item()))"
   ]
  },
  {
   "cell_type": "code",
   "execution_count": 9,
   "id": "45a9b2d6",
   "metadata": {},
   "outputs": [
    {
     "name": "stdout",
     "output_type": "stream",
     "text": [
      "Accuracy of the model on the test images: 100.00 %\n"
     ]
    }
   ],
   "source": [
    "# Test the model\n",
    "model.eval()\n",
    "with torch.no_grad():\n",
    "    correct = 0\n",
    "    total = 0\n",
    "    for X, y in test_loader:\n",
    "        X = X.to(device)\n",
    "        y = y.to(device).bool()\n",
    "        output = model(X)\n",
    "        y_pred = output > 0.5\n",
    "        total += y.shape[0]\n",
    "        correct += (y_pred == y).sum().item()\n",
    "\n",
    "    print('Accuracy of the model on the test images: {:.2f} %'.format(\n",
    "        100 * correct / total))"
   ]
  },
  {
   "cell_type": "code",
   "execution_count": null,
   "id": "fa255499",
   "metadata": {},
   "outputs": [],
   "source": []
  }
 ],
 "metadata": {
  "kernelspec": {
   "display_name": "Python 3 (ipykernel)",
   "language": "python",
   "name": "python3"
  },
  "language_info": {
   "codemirror_mode": {
    "name": "ipython",
    "version": 3
   },
   "file_extension": ".py",
   "mimetype": "text/x-python",
   "name": "python",
   "nbconvert_exporter": "python",
   "pygments_lexer": "ipython3",
   "version": "3.9.13"
  }
 },
 "nbformat": 4,
 "nbformat_minor": 5
}
